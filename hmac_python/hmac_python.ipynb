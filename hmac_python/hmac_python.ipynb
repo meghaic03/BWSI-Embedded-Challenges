{
 "cells": [
  {
   "cell_type": "markdown",
   "metadata": {},
   "source": [
    "# Hmac python\n",
    "\n"
   ]
  },
  {
   "cell_type": "markdown",
   "metadata": {},
   "source": [
    "### Challenge Name: hmac_generate (/embsec/hmac_python/hmac_generate)\n",
    "\n",
    "\n",
    "    The serial device will send you a variable-length frame of data. The data\n",
    "    frame will begin with a short, little-endian integer size of the data to \n",
    "    follow. You must generate an HMAC-SHA256 signature using the key in \n",
    "    'hmackeyfile0.bin'.\n",
    "    \n",
    "    The data frame you will receive from the device will be formatted as follows:\n",
    "    \n",
    "    [ 0x2   ] [   variable...   ]\n",
    "    ------------------------------\n",
    "    | Size   |     Data          |\n",
    "    ------------------------------\n",
    "    \n",
    "    You must send a 32-byte HMAC-SHA256 signature to the serial device.\n",
    "    \n",
    "    [     0x20     ]\n",
    "    ----------------\n",
    "    |  HMAC(Data)  |\n",
    "    ----------------\n",
    "    \n",
    "    1. Read the HMAC key from 'hmackeyfile0.bin'\n",
    "    2. Read the size of the data from the serial device\n",
    "    3. Read the data from the serial device\n",
    "    4. Generate and send a HMAC-SHA256 over the data\n",
    "    5. Read the response\n",
    "    \n",
    "\n"
   ]
  },
  {
   "cell_type": "code",
   "execution_count": 4,
   "metadata": {},
   "outputs": [
    {
     "name": "stdout",
     "output_type": "stream",
     "text": [
      "b'embsec{hmac_generate_19dc2851160268e2}\\n'\n"
     ]
    }
   ],
   "source": [
    "from embsec import Serial\n",
    "import struct\n",
    "from Crypto.Hash import HMAC, SHA256\n",
    "\n",
    "#https://pycryptodome.readthedocs.io/en/latest/src/hash/hmac.html?highlight=HMAC#Crypto.Hash.HMAC.HMAC.copy \n",
    "\n",
    "def hmac_generate():\n",
    "    ser = Serial(\"/embsec/hmac_python/hmac_generate\")\n",
    "    # Your code goes here!\n",
    "    with open(\"hmackeyfile0.bin\", 'rb') as f:  #step 1\n",
    "        key = f.read()\n",
    "     \n",
    "    size = ser.read(2)  #step 2\n",
    "    size_number = struct.unpack('<h', size)[0]\n",
    "   # print(\"size: \", size_number)\n",
    "    \n",
    "    data = ser.read(size_number)  #step 3\n",
    "   # print(\"data: \", data)\n",
    "    \n",
    "    h = HMAC.new(key, data, digestmod=SHA256) #step 4    #generate key\n",
    "    ser.write(h.digest())    #send over message  #digest finishes making the hmac\n",
    "    \n",
    "    print(ser.read_until()) #step 5\n",
    "    \n",
    "    \n",
    "    \n",
    "\n",
    "hmac_generate()\n"
   ]
  },
  {
   "cell_type": "markdown",
   "metadata": {},
   "source": [
    "### Challenge Name: hmac_verify (/embsec/hmac_python/hmac_verify)\n",
    "\n",
    "\n",
    "    The serial device will send you a series of messages in the format\n",
    "    described below. For each message you must check the attached signature \n",
    "    If verification fails, you must respond with a zero-byte '\\x00'. If \n",
    "    verification passes, you must respond with a one-byte '\\x01'. When the\n",
    "    length of the message you are about to receive is zero , read a newline-\n",
    "    terminated flag.\n",
    "\n",
    "    The serial device will send signed messages in the following format:\n",
    "\n",
    "    ----------------------------------------\n",
    "    [ 0x2 ] [  Size bytes    ] [   0x20   ]\n",
    "    ----------------------------------------\n",
    "    | Size |     Data         | HMAC(Data) |\n",
    "    ----------------------------------------\n",
    "\n"
   ]
  },
  {
   "cell_type": "code",
   "execution_count": 2,
   "metadata": {},
   "outputs": [
    {
     "name": "stdout",
     "output_type": "stream",
     "text": [
      "b'embsec{hmac_verify_77572a05cea5fa3a}\\n'\n"
     ]
    }
   ],
   "source": [
    "from embsec import Serial\n",
    "import struct\n",
    "from Crypto.Hash import HMAC, SHA256\n",
    "\n",
    "\n",
    "def hmac_verify():\n",
    "    ser = Serial(\"/embsec/hmac_python/hmac_verify\")\n",
    "    # Your code goes here!\n",
    "    \n",
    "    with open(\"hmackeyfile0.bin\", 'rb') as f: \n",
    "            key = f.read()\n",
    "     \n",
    "    size = ser.read(2)\n",
    "    size_number = struct.unpack('<h', size)[0]\n",
    "   # print(\"size: \", size_number)\n",
    "    \n",
    "    while (size_number != 0):\n",
    "        data = ser.read(size_number)\n",
    "        hmac = ser.read(32) #32 because 2 hexadecimal-->32 bits\n",
    "        \n",
    "        h = HMAC.new(key, data, digestmod=SHA256)\n",
    "        \n",
    "        \n",
    "        if ((h.digest() ==hmac) == False):  #h.digest() ==hmac is to verify signature\n",
    "            ser.write(struct.pack('1s', b'\\x00'))    #if verification fails send zero-byte\n",
    "\n",
    "        else:\n",
    "            ser.write(struct.pack('1s', b'\\x01'))  #if verification passes send one-byte\n",
    "    \n",
    "        size = ser.read(2)\n",
    "        size_number = struct.unpack('<h', size)[0]\n",
    "                      \n",
    "    print(ser.read_until())\n",
    "    \n",
    "    \n",
    "\n",
    "hmac_verify()\n"
   ]
  },
  {
   "cell_type": "code",
   "execution_count": null,
   "metadata": {},
   "outputs": [],
   "source": []
  }
 ],
 "metadata": {
  "kernelspec": {
   "display_name": "Python 3",
   "language": "python",
   "name": "python3"
  },
  "language_info": {
   "codemirror_mode": {
    "name": "ipython",
    "version": 3
   },
   "file_extension": ".py",
   "mimetype": "text/x-python",
   "name": "python",
   "nbconvert_exporter": "python",
   "pygments_lexer": "ipython3",
   "version": "3.7.6"
  }
 },
 "nbformat": 4,
 "nbformat_minor": 4
}
