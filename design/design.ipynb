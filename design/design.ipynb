{
 "cells": [
  {
   "cell_type": "markdown",
   "metadata": {},
   "source": [
    "# Design\n",
    "\n"
   ]
  },
  {
   "cell_type": "markdown",
   "metadata": {},
   "source": [
    "### Challenge Name: fw_protect (/embsec/design/fw_protect)\n",
    "\n",
    "The purpose of this tool will be to secure the firmware. Eventually,\n",
    "you will want to keep the firmware confidential and be able to verify its integrity and authenticity. But for now, \n",
    "you will implement a firmware protect tool that does not add security. This tool should simply:\n",
    "\n",
    "    1. Pack the version \"0\" into a little-endian short\n",
    "    2. Load the firmware binary from firmware.bin\n",
    "    3. Pack the size of the firmware into a little-endian short\n",
    "    4. Append the release message \"First version of firmware.\" to end of firmware (make sure it is null-terminated)\n",
    "    5. Build and send a binary blob in the following format to the grader:\n",
    "    \n",
    "        [ 0x2 ]      [ 0x2 ]      [ variable ]           [ variable ]\n",
    "        -------------------------------------------------------------------------\n",
    "        version | firmware size |   firmware   |   release message + null-byte   \n",
    "\n",
    "\n"
   ]
  },
  {
   "cell_type": "code",
   "execution_count": 11,
   "metadata": {},
   "outputs": [
    {
     "data": {
      "text/plain": [
       "b'embsec{fw_protect_b9d4326240c079e8}\\n'"
      ]
     },
     "execution_count": 11,
     "metadata": {},
     "output_type": "execute_result"
    }
   ],
   "source": [
    "from embsec import Serial\n",
    "import struct, os\n",
    "#sent from firmware to bootloader\n",
    "\n",
    "\n",
    "\n",
    "\n",
    "\n",
    "def fw_protect():\n",
    "    ser = Serial(\"/embsec/design/fw_protect\")\n",
    "    # Your code goes here!\n",
    "    with open(\"firmware_0.bin\", 'rb') as f: #rb = read as bytes\n",
    "        size = os.stat(\"firmware_0.bin\").st_size\n",
    "        ser.write(struct.pack(f\"<HH{size}s27s\", 0, size, f.read(), \"First version of firmware.\\0\".encode(\"utf-8\"))) \n",
    "        #f allows you to put variables in brakets (the {size})\n",
    "        #< --> little endian \n",
    "        #HH --> unsigned short\n",
    "        #s --> type specifier (string)\n",
    "        #27s --> says how long the string is\n",
    "        return ser.read_until() #reads the serial input (from the bus) until a new line character\n",
    "\n",
    "fw_protect()\n"
   ]
  },
  {
   "cell_type": "markdown",
   "metadata": {},
   "source": [
    "### Challenge Name: fw_update (/embsec/design/fw_update)\n",
    "\n",
    "For this lesson you will implement a basic update tool for the design challenge. The tool will be used to update the device firmware. You should focus on reading in the firmware blob file, and constructing a set of frames to send to the bootloader. Pay attention to the structure of these frames, as the bootloader is expecting a certain size and format.\n",
    "\n",
    "The bootloader is expecting frames of the following format:\n",
    "\n",
    "      [ 0x2 ]    [ variable ]\n",
    "----------------------------\n",
    "     data size |   data... \n",
    "\n",
    "Process:\n",
    "1. Read in binary blob\n",
    "2. Send the file metadata over serial. Remeber from fw_protect that the metadata is the first 4 bytes of the file!\n",
    "3. Send a 'U' for update mode & receive a confirmation 'U'\n",
    "4. Construct frames from blob, note that the size is the size of the data field!\n",
    "5. Send frames sequentially to boot loader. You need to wait for a zero byte between frames! This is an OK heartbeat response.\n",
    "6. To finish, you need to send a frame with the size field set to zero. Feel free to leave the data field empty.\n",
    "7. Read for a flag!\n",
    "\n",
    "One last thing! Frames are packed big-endian. (\n",
    "\n"
   ]
  },
  {
   "cell_type": "code",
   "execution_count": 5,
   "metadata": {},
   "outputs": [
    {
     "data": {
      "text/plain": [
       "b'\\x00\\x00\\x00\\x00\\x00\\x00embsec{fw_update_20ef48882974720a}\\n'"
      ]
     },
     "execution_count": 5,
     "metadata": {},
     "output_type": "execute_result"
    }
   ],
   "source": [
    "from embsec import Serial\n",
    "import struct, os\n",
    "\n",
    "def fw_update():\n",
    "    ser = Serial(\"/embsec/design/fw_update\")\n",
    "    # Your code goes here!\n",
    "    \n",
    "    with open(\"firmware_1.blob\", 'rb') as f: #defines file object\n",
    "    \n",
    "        ser.write('U'.encode('UTF-8')) #sends u\n",
    "        if(ser.read() == 'U'.encode('UTF-8')): #gets u\n",
    "            ser.write(f.read(4)) #sends metadata\n",
    "            size = os.stat(\"firmware_1.blob\").st_size - 4\n",
    "            \n",
    "        \n",
    "            k = 1\n",
    "            while size > 14:\n",
    "               # print(f\"loop runthrough #{k}\")\n",
    "                packet = struct.pack(\">H14s\", 14, f.read(14))\n",
    "                ser.write(packet)\n",
    "            #    print(f\"loop runthrough #{k} midway\")\n",
    "                size -= 14\n",
    "            #    print(ser.read())\n",
    "               # print(f\"loop runthrough #{k} end\")\n",
    "                k+=1\n",
    "            if size>0:\n",
    "                ser.write(struct.pack(f\">H{size}s\", size, f.read()))\n",
    "             #   print(ser.read())\n",
    "            ser.write(struct.pack(\">H0b\", 0))\n",
    "      #  print(\"here\")\n",
    "        return ser.read_until()\n",
    "    \n",
    "\n",
    "    \n",
    "\n",
    "fw_update()\n"
   ]
  },
  {
   "cell_type": "code",
   "execution_count": null,
   "metadata": {},
   "outputs": [],
   "source": []
  }
 ],
 "metadata": {
  "kernelspec": {
   "display_name": "Python 3",
   "language": "python",
   "name": "python3"
  },
  "language_info": {
   "codemirror_mode": {
    "name": "ipython",
    "version": 3
   },
   "file_extension": ".py",
   "mimetype": "text/x-python",
   "name": "python",
   "nbconvert_exporter": "python",
   "pygments_lexer": "ipython3",
   "version": "3.7.6"
  }
 },
 "nbformat": 4,
 "nbformat_minor": 4
}
